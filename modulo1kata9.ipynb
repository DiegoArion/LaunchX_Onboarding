{
 "cells": [
  {
   "cell_type": "code",
   "execution_count": 8,
   "metadata": {},
   "outputs": [
    {
     "name": "stdout",
     "output_type": "stream",
     "text": [
      "La cantidad de combustible que hay es: 20.0\n"
     ]
    }
   ],
   "source": [
    "def combustible(tanque1, tanque2, tanque3) :\n",
    "        print(f'La cantidad de combustible que hay es: {calculo_promedio(10,30,20)}')\n",
    "\n",
    "def calculo_promedio(cant1, cant2, cant3) :\n",
    "    total = (cant1 + cant2 + cant3) / 3\n",
    "    return total\n",
    "\n",
    "combustible(10,20,30)"
   ]
  },
  {
   "cell_type": "code",
   "execution_count": 25,
   "metadata": {},
   "outputs": [
    {
     "name": "stdout",
     "output_type": "stream",
     "text": [
      "Destino: moon. Tiempo: 150.\n",
      "tanque_a : 20\n",
      "tanque_b : 35\n"
     ]
    }
   ],
   "source": [
    "def reporte (prelanzamiento, t_vuelo, destino, tanque_ext, tanque_int) :\n",
    "    print(f'Tiempo de lanzamiento: {prelanzamiento}. Tiempo de vuelo: {t_vuelo}. Destino: {destino}. Tanque ext: {tanque_ext}. Tanque interno: {tanque_int}')\n",
    "\n",
    "def reporte2(destino, *tiempo, **tanques):\n",
    "    print(f'Destino: {destino}. Tiempo: {sum(tiempo)}.')\n",
    "    for tanque_nombre, qty in tanques.items() :\n",
    "        print(f'{tanque_nombre} : {qty}')\n",
    "\n",
    "reporte2(\"moon\", 50, 50, 50, tanque_a=20, tanque_b=35)"
   ]
  },
  {
   "cell_type": "code",
   "execution_count": 19,
   "metadata": {},
   "outputs": [
    {
     "name": "stdout",
     "output_type": "stream",
     "text": [
      "main : 300000\n",
      "external : 200000\n",
      "\n",
      "    Mission to Moon\n",
      "    Total travel time: 76 minutes\n",
      "    Total fuel left: 500000\n",
      "    \n"
     ]
    }
   ],
   "source": [
    "\n",
    "#pruebas\n",
    "\n",
    "def mission_report(destination, *minutes, **fuel_reservoirs):\n",
    "    \n",
    "    for fuel, qty in fuel_reservoirs.items() :\n",
    "        print(f'{fuel} : {qty}')\n",
    "    \n",
    "    return f\"\"\"\n",
    "    Mission to {destination}\n",
    "    Total travel time: {sum(minutes)} minutes\n",
    "    Total fuel left: {sum(fuel_reservoirs.values())}\n",
    "    \"\"\"        \n",
    "\n",
    "print(mission_report(\"Moon\", 10, 15, 51, main=300000, external=200000))"
   ]
  }
 ],
 "metadata": {
  "interpreter": {
   "hash": "081837b0d89a1a11c7e12cfb777b4296fc9d5cdb4add819a1b66bd9acaab463f"
  },
  "kernelspec": {
   "display_name": "Python 3.10.2 64-bit",
   "language": "python",
   "name": "python3"
  },
  "language_info": {
   "codemirror_mode": {
    "name": "ipython",
    "version": 3
   },
   "file_extension": ".py",
   "mimetype": "text/x-python",
   "name": "python",
   "nbconvert_exporter": "python",
   "pygments_lexer": "ipython3",
   "version": "3.10.2"
  },
  "orig_nbformat": 4
 },
 "nbformat": 4,
 "nbformat_minor": 2
}
