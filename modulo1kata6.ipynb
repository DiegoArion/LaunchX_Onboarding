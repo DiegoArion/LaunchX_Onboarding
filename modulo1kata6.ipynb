{
 "cells": [
  {
   "cell_type": "code",
   "execution_count": 7,
   "metadata": {},
   "outputs": [
    {
     "name": "stdout",
     "output_type": "stream",
     "text": [
      "9 Pluton\n"
     ]
    }
   ],
   "source": [
    "planets = [\"Mercurio\", \"Venus\", \"Tierra\", \"Marte\", \"Jupiter\", \"Saturno\", \"Urano\", \"Neptuno\"]\n",
    "planets.append(\"Pluton\")\n",
    "\n",
    "print(len(planets), planets[int(len(planets)-1)])"
   ]
  },
  {
   "cell_type": "code",
   "execution_count": 10,
   "metadata": {},
   "outputs": [
    {
     "name": "stdout",
     "output_type": "stream",
     "text": [
      "3\n",
      "Los planetas mas cercanos al sol del que ingreso son:  ['Mercurio', 'Venus', 'Tierra']\n",
      "Los planetas mas lejanos al sol del que ingreso son:  ['Jupiter', 'Saturno', 'Urano', 'Neptuno']\n"
     ]
    }
   ],
   "source": [
    "planets = [\"Mercurio\", \"Venus\", \"Tierra\", \"Marte\", \"Jupiter\", \"Saturno\", \"Urano\", \"Neptuno\"]\n",
    "\n",
    "planeta = input(\"Ingrese el nombre de un planeta iniciando con la primer letra mayuscula:\")\n",
    "planeta_busqueda = int(planets.index(planeta))\n",
    "print(planeta_busqueda)\n",
    "planetas_cercanos = planets[0:planeta_busqueda]\n",
    "planetas_lejanos = planets[planeta_busqueda+1:]\n",
    "\n",
    "print(\"Los planetas mas cercanos al sol del que ingreso son: \", planetas_cercanos)\n",
    "print(\"Los planetas mas lejanos al sol del que ingreso son: \", planetas_lejanos)"
   ]
  }
 ],
 "metadata": {
  "interpreter": {
   "hash": "081837b0d89a1a11c7e12cfb777b4296fc9d5cdb4add819a1b66bd9acaab463f"
  },
  "kernelspec": {
   "display_name": "Python 3.10.2 64-bit",
   "language": "python",
   "name": "python3"
  },
  "language_info": {
   "codemirror_mode": {
    "name": "ipython",
    "version": 3
   },
   "file_extension": ".py",
   "mimetype": "text/x-python",
   "name": "python",
   "nbconvert_exporter": "python",
   "pygments_lexer": "ipython3",
   "version": "3.10.2"
  },
  "orig_nbformat": 4
 },
 "nbformat": 4,
 "nbformat_minor": 2
}
