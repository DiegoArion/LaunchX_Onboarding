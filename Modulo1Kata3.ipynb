{
 "cells": [
  {
   "cell_type": "code",
   "execution_count": 2,
   "metadata": {},
   "outputs": [],
   "source": [
    "velocidad = 25\n",
    "\n",
    "if velocidad > 25:\n",
    "    print('¡Alerta! ¡Un asteroide se acerca a velocidades peligrosas!')\n",
    "else:\n",
    "    print(\"Todo tranqui\")"
   ]
  },
  {
   "cell_type": "code",
   "execution_count": 9,
   "metadata": {},
   "outputs": [
    {
     "name": "stdout",
     "output_type": "stream",
     "text": [
      "Meteorito cerca de la tierra!\n"
     ]
    }
   ],
   "source": [
    "velocidad = 20\n",
    "\n",
    "if velocidad > 20:\n",
    "    print(\"Meteorito cerca de la tierra!\")\n",
    "elif velocidad == 20:\n",
    "    print(\"Meteorito visible\")\n",
    "else:\n",
    "    print(\"Todo tranqui\")\n"
   ]
  },
  {
   "cell_type": "code",
   "execution_count": 11,
   "metadata": {},
   "outputs": [
    {
     "name": "stdout",
     "output_type": "stream",
     "text": [
      "Alerta, asteroide cerca\n"
     ]
    }
   ],
   "source": [
    "velocidad = 26\n",
    "asteroide = 40\n",
    "\n",
    "if velocidad > 25 and asteroide > 25:\n",
    "    print(\"Alerta, asteroide cerca\")\n",
    "elif velocidad >= 20:\n",
    "    print(\"Se puede ver el asteroide\")\n",
    "elif asteroide < 25:\n",
    "    print(\"Todo tranqui\")\n",
    "else:\n",
    "    print(\"Todo tranqui\")"
   ]
  }
 ],
 "metadata": {
  "interpreter": {
   "hash": "081837b0d89a1a11c7e12cfb777b4296fc9d5cdb4add819a1b66bd9acaab463f"
  },
  "kernelspec": {
   "display_name": "Python 3.10.2 64-bit",
   "language": "python",
   "name": "python3"
  },
  "language_info": {
   "codemirror_mode": {
    "name": "ipython",
    "version": 3
   },
   "file_extension": ".py",
   "mimetype": "text/x-python",
   "name": "python",
   "nbconvert_exporter": "python",
   "pygments_lexer": "ipython3",
   "version": "3.10.2"
  },
  "orig_nbformat": 4
 },
 "nbformat": 4,
 "nbformat_minor": 2
}
