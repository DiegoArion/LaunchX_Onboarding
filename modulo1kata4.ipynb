{
 "cells": [
  {
   "cell_type": "code",
   "execution_count": 4,
   "metadata": {},
   "outputs": [
    {
     "name": "stdout",
     "output_type": "stream",
     "text": [
      "['Interesting facts about the Moon', \"The Moon is Earth's only satellite\", 'There are several interesting facts about the Moon and how it affects life here on Earth', '\\nOn average, the Moon moves 4cm away from the Earth every year', 'This yearly drift is not significant enough to cause immediate effects on Earth', 'The highest daylight temperature of the Moon is 127 C.']\n"
     ]
    }
   ],
   "source": [
    "text = \"\"\"Interesting facts about the Moon. The Moon is Earth's only satellite. There are several interesting facts about the Moon and how it affects life here on Earth. \n",
    "On average, the Moon moves 4cm away from the Earth every year. This yearly drift is not significant enough to cause immediate effects on Earth. The highest daylight temperature of the Moon is 127 C.\"\"\"\n",
    "\n",
    "text2 = text.split('. ')\n",
    "print(text2)"
   ]
  },
  {
   "cell_type": "code",
   "execution_count": 10,
   "metadata": {},
   "outputs": [
    {
     "name": "stdout",
     "output_type": "stream",
     "text": [
      "\n",
      "On average, the Moon moves 4cm away from the Earth every year\n",
      "The highest daylight temperature of the Moon is 127 Celcius.\n"
     ]
    }
   ],
   "source": [
    "keys = ['average', 'temperature', 'distance']\n",
    "\n",
    "for sentence in text2:\n",
    "    for key in keys:\n",
    "        if key in sentence:\n",
    "            print(sentence.replace('C', 'Celcius'))\n",
    "            break"
   ]
  },
  {
   "cell_type": "code",
   "execution_count": 37,
   "metadata": {},
   "outputs": [
    {
     "name": "stdout",
     "output_type": "stream",
     "text": [
      "Gravity facts about Luna\n",
      "-------------------------------\n",
      "Planet name: Earth\n",
      "Gravity on Moon: 5.55 km/s2\n",
      "Gravity facts about Ganimides\n",
      "-------------------------------\n",
      "Planet name: Marte\n",
      "Gravity on Moon: 1.4300000000000002 km/s2\n"
     ]
    }
   ],
   "source": [
    "name = \"Luna\"\n",
    "gravity = 0.00555\n",
    "planet = \"Earth\"\n",
    "\n",
    "title = 'Gravity facts about {name}'\n",
    "#print(title)\n",
    "\n",
    "body = \"\"\"-------------------------------\n",
    "Planet name: {planet}\n",
    "Gravity on Moon: {gravity} km/s2\"\"\"\n",
    "#print(body) \n",
    "\n",
    "hechos = title + '\\n' + body\n",
    "\n",
    "print(hechos.format(name=name, planet=planet, gravity=gravity*1000))\n",
    "\n",
    "name = \"Ganimides\"\n",
    "gravity = 0.00143\n",
    "planet = \"Marte\"\n",
    "\n",
    "print(hechos.format(name=name, planet=planet, gravity=gravity*1000))\n"
   ]
  }
 ],
 "metadata": {
  "interpreter": {
   "hash": "081837b0d89a1a11c7e12cfb777b4296fc9d5cdb4add819a1b66bd9acaab463f"
  },
  "kernelspec": {
   "display_name": "Python 3.10.2 64-bit",
   "language": "python",
   "name": "python3"
  },
  "language_info": {
   "codemirror_mode": {
    "name": "ipython",
    "version": 3
   },
   "file_extension": ".py",
   "mimetype": "text/x-python",
   "name": "python",
   "nbconvert_exporter": "python",
   "pygments_lexer": "ipython3",
   "version": "3.10.2"
  },
  "orig_nbformat": 4
 },
 "nbformat": 4,
 "nbformat_minor": 2
}
